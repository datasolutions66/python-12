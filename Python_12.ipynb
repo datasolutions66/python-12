{
  "nbformat": 4,
  "nbformat_minor": 0,
  "metadata": {
    "colab": {
      "provenance": []
    },
    "kernelspec": {
      "name": "python3",
      "display_name": "Python 3"
    },
    "language_info": {
      "name": "python"
    }
  },
  "cells": [
    {
      "cell_type": "markdown",
      "source": [
        "#Summary:-\n",
        "\n",
        "##Nesting of the Listing\n",
        "##Find Total Cost of Materials Calculation => Amazon Cart\n",
        "##List Comprehension\n",
        "##Square of element in List\n",
        "##Take the Square of Odd Numbers in List\n",
        "##Count Method\n",
        "##Extend Method\n",
        "##Difference between Extend and Append\n",
        "##Index Method\n",
        "##Print the index of all Complex number | integer | String value\n",
        "##Insert Method\n",
        "##Remove Method\n",
        "##pop()\n",
        "##Tuples\n",
        "##Sets\n",
        "##Remove Duplicates\n",
        "\n"
      ],
      "metadata": {
        "id": "wagwtR3gyNfb"
      }
    },
    {
      "cell_type": "markdown",
      "source": [
        "##Nesting of the Listing:- List inside a List"
      ],
      "metadata": {
        "id": "A5dZYEHEySZr"
      }
    },
    {
      "cell_type": "code",
      "execution_count": null,
      "metadata": {
        "colab": {
          "base_uri": "https://localhost:8080/"
        },
        "id": "T1YVq8EWyIBN",
        "outputId": "3851a050-2a17-4910-b339-61fbd17aa77c"
      },
      "outputs": [
        {
          "output_type": "execute_result",
          "data": {
            "text/plain": [
              "[11, 22, 33]"
            ]
          },
          "metadata": {},
          "execution_count": 1
        }
      ],
      "source": [
        "A = [[1,2,3], [11,22,33], [45,56,77]]\n",
        "\n",
        "A[1]"
      ]
    },
    {
      "cell_type": "code",
      "source": [
        "A[1][1]  #Access 22"
      ],
      "metadata": {
        "colab": {
          "base_uri": "https://localhost:8080/"
        },
        "id": "4ltxjZ6ozVjN",
        "outputId": "e05f4e53-a54f-4a65-d619-a3ac31046d88"
      },
      "execution_count": null,
      "outputs": [
        {
          "output_type": "execute_result",
          "data": {
            "text/plain": [
              "22"
            ]
          },
          "metadata": {},
          "execution_count": 2
        }
      ]
    },
    {
      "cell_type": "code",
      "source": [
        "A = [[1,2,3], [11,22,33], [45,56,77]]  #Access 56\n",
        "\n",
        "A[2][1]"
      ],
      "metadata": {
        "colab": {
          "base_uri": "https://localhost:8080/"
        },
        "id": "eifhaQ94zedL",
        "outputId": "4006250b-3712-416e-9c26-f4de74ac3a9b"
      },
      "execution_count": null,
      "outputs": [
        {
          "output_type": "execute_result",
          "data": {
            "text/plain": [
              "56"
            ]
          },
          "metadata": {},
          "execution_count": 3
        }
      ]
    },
    {
      "cell_type": "code",
      "source": [
        "A = [[1,2,3], [11,22,33,[500,502]], [45,56,77]]  #Access 502\n",
        "\n",
        "A[1][3][1]"
      ],
      "metadata": {
        "colab": {
          "base_uri": "https://localhost:8080/"
        },
        "id": "QfzOAnDezniD",
        "outputId": "da7cac17-eeaf-4c0f-925b-f74574ef9b98"
      },
      "execution_count": null,
      "outputs": [
        {
          "output_type": "execute_result",
          "data": {
            "text/plain": [
              "502"
            ]
          },
          "metadata": {},
          "execution_count": 4
        }
      ]
    },
    {
      "cell_type": "markdown",
      "source": [
        "##Find Total Cost of Materials Calculation => Amazon Cart"
      ],
      "metadata": {
        "id": "daBxcU881fpL"
      }
    },
    {
      "cell_type": "code",
      "source": [
        "amazon_cart = [[\"Watch\", 5000], [\"Phone\", 10000], [\"Laptop\", 50000]]\n",
        "\n",
        "total_cost = 0   #Start from 0\n",
        "\n",
        "amazon_cart[0][1]"
      ],
      "metadata": {
        "colab": {
          "base_uri": "https://localhost:8080/"
        },
        "id": "Y5cF9XOD0TKk",
        "outputId": "00084155-35f3-4a7b-88aa-8f19bebcd0b1"
      },
      "execution_count": null,
      "outputs": [
        {
          "output_type": "execute_result",
          "data": {
            "text/plain": [
              "5000"
            ]
          },
          "metadata": {},
          "execution_count": 5
        }
      ]
    },
    {
      "cell_type": "code",
      "source": [
        "amazon_cart[1][1]"
      ],
      "metadata": {
        "colab": {
          "base_uri": "https://localhost:8080/"
        },
        "id": "85dlh-072xmj",
        "outputId": "65ebf321-4519-4dee-a44e-c8337b28333c"
      },
      "execution_count": null,
      "outputs": [
        {
          "output_type": "execute_result",
          "data": {
            "text/plain": [
              "10000"
            ]
          },
          "metadata": {},
          "execution_count": 6
        }
      ]
    },
    {
      "cell_type": "code",
      "source": [
        "amazon_cart[2][1]"
      ],
      "metadata": {
        "colab": {
          "base_uri": "https://localhost:8080/"
        },
        "id": "bLHlW-7Z22Ni",
        "outputId": "47f1524a-e6a5-463e-94ae-ab3ff364b021"
      },
      "execution_count": null,
      "outputs": [
        {
          "output_type": "execute_result",
          "data": {
            "text/plain": [
              "50000"
            ]
          },
          "metadata": {},
          "execution_count": 7
        }
      ]
    },
    {
      "cell_type": "code",
      "source": [
        "amazon_cart[0][1] + amazon_cart[1][1] + amazon_cart[2][1]  # Total Cost"
      ],
      "metadata": {
        "colab": {
          "base_uri": "https://localhost:8080/"
        },
        "id": "J6gjAk3625Z6",
        "outputId": "bde2e5df-c075-490f-86d4-98017444eb24"
      },
      "execution_count": null,
      "outputs": [
        {
          "output_type": "execute_result",
          "data": {
            "text/plain": [
              "65000"
            ]
          },
          "metadata": {},
          "execution_count": 8
        }
      ]
    },
    {
      "cell_type": "markdown",
      "source": [
        "###Using for Loop"
      ],
      "metadata": {
        "id": "N2yijQ023I87"
      }
    },
    {
      "cell_type": "code",
      "source": [
        "amazon_cart = [[\"Watch\", 5000], [\"Phone\", 10000], [\"Laptop\", 50000]]\n",
        "\n",
        "total_cost = 0   #Start from 0\n",
        "\n",
        "for i in range(len(amazon_cart)):\n",
        "  # print(i)\n",
        "  print(amazon_cart[i][1])\n",
        "  total_cost = total_cost + amazon_cart[i][1]\n",
        "\n",
        "print(total_cost)"
      ],
      "metadata": {
        "colab": {
          "base_uri": "https://localhost:8080/"
        },
        "id": "5kJH8VdX2_8S",
        "outputId": "eda574a5-ca1b-4cf8-cb6b-6b345ddcdc50"
      },
      "execution_count": null,
      "outputs": [
        {
          "output_type": "stream",
          "name": "stdout",
          "text": [
            "5000\n",
            "10000\n",
            "50000\n",
            "65000\n"
          ]
        }
      ]
    },
    {
      "cell_type": "markdown",
      "source": [
        "###Another Short Method (Easy)"
      ],
      "metadata": {
        "id": "HUH_YPnt5V2L"
      }
    },
    {
      "cell_type": "code",
      "source": [
        "amazon_cart = [[\"Watch\", 5000], [\"Phone\", 10000], [\"Laptop\", 50000]]\n",
        "\n",
        "total_cost = 0   #Start from 0\n",
        "\n",
        "for item in amazon_cart:\n",
        "  print(item[1])\n",
        "\n",
        "  total_cost = total_cost + item[1]\n",
        "\n",
        "print(total_cost)"
      ],
      "metadata": {
        "colab": {
          "base_uri": "https://localhost:8080/"
        },
        "id": "azay0-1s3prb",
        "outputId": "4ac87384-fb5f-46c9-8185-df108172a357"
      },
      "execution_count": null,
      "outputs": [
        {
          "output_type": "stream",
          "name": "stdout",
          "text": [
            "5000\n",
            "10000\n",
            "50000\n",
            "65000\n"
          ]
        }
      ]
    },
    {
      "cell_type": "markdown",
      "source": [
        "##List Comprehension:- Shortcut way of Creating List"
      ],
      "metadata": {
        "id": "Q4v2_-c07QJj"
      }
    },
    {
      "cell_type": "markdown",
      "source": [
        "###Square of element in List"
      ],
      "metadata": {
        "id": "YDbPV6ik7poq"
      }
    },
    {
      "cell_type": "code",
      "source": [
        "A = [1,2,3,4,5,6,7,8,9,10]\n",
        "\n",
        "ans = list()   #Take Empty List. We will append here\n",
        "\n",
        "for ele in A:\n",
        "  # print(ele)\n",
        "  print(ele**2)\n",
        "  ans.append(ele**2)\n",
        "print(ans)"
      ],
      "metadata": {
        "colab": {
          "base_uri": "https://localhost:8080/"
        },
        "id": "9Y90V8g75l_j",
        "outputId": "97156eee-952e-489b-9c79-9ef581952fd6"
      },
      "execution_count": null,
      "outputs": [
        {
          "output_type": "stream",
          "name": "stdout",
          "text": [
            "1\n",
            "4\n",
            "9\n",
            "16\n",
            "25\n",
            "36\n",
            "49\n",
            "64\n",
            "81\n",
            "100\n",
            "[1, 4, 9, 16, 25, 36, 49, 64, 81, 100]\n"
          ]
        }
      ]
    },
    {
      "cell_type": "markdown",
      "source": [
        "###Do Square in One Line"
      ],
      "metadata": {
        "id": "gwHAFAyP9Ik6"
      }
    },
    {
      "cell_type": "code",
      "source": [
        "A = [1,2,3,4,5,6,7,8,9,10]\n",
        "\n",
        "ans = [ele**2 for ele in A]\n",
        "print(ans)"
      ],
      "metadata": {
        "colab": {
          "base_uri": "https://localhost:8080/"
        },
        "id": "D8vvk3UB8Nxb",
        "outputId": "367cd6f5-f703-4622-f49f-20e80cf9e611"
      },
      "execution_count": null,
      "outputs": [
        {
          "output_type": "stream",
          "name": "stdout",
          "text": [
            "[1, 4, 9, 16, 25, 36, 49, 64, 81, 100]\n"
          ]
        }
      ]
    },
    {
      "cell_type": "markdown",
      "source": [
        "###Take the Square of Odd Numbers in List:-"
      ],
      "metadata": {
        "id": "KIJqZv_u-Kiy"
      }
    },
    {
      "cell_type": "code",
      "source": [
        "A = [1,2,3,4,5,6,7,8,9,10]\n",
        "\n",
        "ans = list()\n",
        "\n",
        "for ele in A:\n",
        "  if ele%2 != 0:\n",
        "    # print(ele)\n",
        "    print(ele**2)\n",
        "    ans.append(ele**2)\n",
        "print(ans)"
      ],
      "metadata": {
        "colab": {
          "base_uri": "https://localhost:8080/"
        },
        "id": "n1oH9AaG9fBj",
        "outputId": "3a6ad41e-739f-420c-f854-7794b6b93e06"
      },
      "execution_count": null,
      "outputs": [
        {
          "output_type": "stream",
          "name": "stdout",
          "text": [
            "1\n",
            "9\n",
            "25\n",
            "49\n",
            "81\n",
            "[1, 9, 25, 49, 81]\n"
          ]
        }
      ]
    },
    {
      "cell_type": "markdown",
      "source": [
        "###Write it in List Comprehension way(in short way)"
      ],
      "metadata": {
        "id": "UYSa77Xj_cQS"
      }
    },
    {
      "cell_type": "code",
      "source": [
        "A = [1,2,3,4,5,6,7,8,9,10]\n",
        "\n",
        "ans = [ele**2 for ele in A if ele%2 != 0]\n",
        "\n",
        "print(ans)"
      ],
      "metadata": {
        "colab": {
          "base_uri": "https://localhost:8080/"
        },
        "id": "_ulKxipF-xyL",
        "outputId": "8e573c20-9696-4a7f-8133-ca67c4c8fe30"
      },
      "execution_count": null,
      "outputs": [
        {
          "output_type": "stream",
          "name": "stdout",
          "text": [
            "[1, 9, 25, 49, 81]\n"
          ]
        }
      ]
    },
    {
      "cell_type": "markdown",
      "source": [
        "###Count Method:- How many number present in the List"
      ],
      "metadata": {
        "id": "6m9fzL2lMA9b"
      }
    },
    {
      "cell_type": "code",
      "source": [
        "A = [1,2,4,1,6,7,7,7,8]\n",
        "\n",
        "A.count(7)"
      ],
      "metadata": {
        "id": "J67cXrVn_0fa",
        "colab": {
          "base_uri": "https://localhost:8080/"
        },
        "outputId": "9a47f550-6ed2-4677-b560-c8bfe800ab44"
      },
      "execution_count": 1,
      "outputs": [
        {
          "output_type": "execute_result",
          "data": {
            "text/plain": [
              "3"
            ]
          },
          "metadata": {},
          "execution_count": 1
        }
      ]
    },
    {
      "cell_type": "code",
      "source": [
        "A.count(1)"
      ],
      "metadata": {
        "colab": {
          "base_uri": "https://localhost:8080/"
        },
        "id": "Okm4uHpzMdhk",
        "outputId": "fdcb4e30-09d2-45f3-d1c9-2c6ae0f67d15"
      },
      "execution_count": 2,
      "outputs": [
        {
          "output_type": "execute_result",
          "data": {
            "text/plain": [
              "2"
            ]
          },
          "metadata": {},
          "execution_count": 2
        }
      ]
    },
    {
      "cell_type": "code",
      "source": [
        "A = [\"Dipanjan\", \"Das\", \"Dipanjan\"]\n",
        "\n",
        "for i in A:\n",
        "\n",
        "  print(i, A.count(i))"
      ],
      "metadata": {
        "colab": {
          "base_uri": "https://localhost:8080/"
        },
        "id": "q0lGVQMaMmCi",
        "outputId": "bf0e92bf-abce-4200-d989-7adc8478f23d"
      },
      "execution_count": 3,
      "outputs": [
        {
          "output_type": "stream",
          "name": "stdout",
          "text": [
            "Dipanjan 2\n",
            "Das 1\n",
            "Dipanjan 2\n"
          ]
        }
      ]
    },
    {
      "cell_type": "code",
      "source": [
        "A = [1,2,4,1,6,7,7,7,8,5]\n",
        "\n",
        "for i in A:\n",
        "  print(i, A.count(i))"
      ],
      "metadata": {
        "colab": {
          "base_uri": "https://localhost:8080/"
        },
        "id": "bj2z5j0tQUYs",
        "outputId": "1ba42fa9-bda5-4f4a-fb36-82d062d42237"
      },
      "execution_count": 5,
      "outputs": [
        {
          "output_type": "stream",
          "name": "stdout",
          "text": [
            "1 2\n",
            "2 1\n",
            "4 1\n",
            "1 2\n",
            "6 1\n",
            "7 3\n",
            "7 3\n",
            "7 3\n",
            "8 1\n",
            "5 1\n"
          ]
        }
      ]
    },
    {
      "cell_type": "markdown",
      "source": [
        "###Extend Method:- extend the List\n",
        "###Extend is a Permanent operation, you don't have to assign in a variable."
      ],
      "metadata": {
        "id": "244DblO_RHcL"
      }
    },
    {
      "cell_type": "code",
      "source": [
        "A = [1,2,3]\n",
        "B = [11,22,33]\n",
        "\n",
        "# A + B  \n",
        "A.extend(B)  #A + B is behaving like extend. extend => extend the List. It is a Permanent operation, you don't have to assign in a variable.\n",
        "\n",
        "A"
      ],
      "metadata": {
        "colab": {
          "base_uri": "https://localhost:8080/"
        },
        "id": "HK1Do3OoQnmi",
        "outputId": "005cf39a-bbc5-42c1-94fe-e8d82ca8c4d3"
      },
      "execution_count": 11,
      "outputs": [
        {
          "output_type": "execute_result",
          "data": {
            "text/plain": [
              "[1, 2, 3, 11, 22, 33]"
            ]
          },
          "metadata": {},
          "execution_count": 11
        }
      ]
    },
    {
      "cell_type": "markdown",
      "source": [
        "###Difference between Extend and Append"
      ],
      "metadata": {
        "id": "v9X88R8cRnPG"
      }
    },
    {
      "cell_type": "code",
      "source": [
        "A = [1,2,3]\n",
        "B = [11,22,33]\n",
        " \n",
        "A.append(B)  #Whole List added. append add element. It is a Permanent operation, you don't have to assign in a variable.\n",
        "\n",
        "A"
      ],
      "metadata": {
        "colab": {
          "base_uri": "https://localhost:8080/"
        },
        "id": "iDPQNxaARUcr",
        "outputId": "97f10e4d-d6c0-4915-c2f4-1cc69e2c4ba0"
      },
      "execution_count": 9,
      "outputs": [
        {
          "output_type": "execute_result",
          "data": {
            "text/plain": [
              "[1, 2, 3, [11, 22, 33]]"
            ]
          },
          "metadata": {},
          "execution_count": 9
        }
      ]
    },
    {
      "cell_type": "markdown",
      "source": [
        "###Index Method:- It will tell you index number of the Element"
      ],
      "metadata": {
        "id": "qIvkjgmxTjxT"
      }
    },
    {
      "cell_type": "code",
      "source": [
        "A = [12, 3, 6, 8, \"Dipanjan\", 2+3j]\n",
        "\n",
        "A.index(3)"
      ],
      "metadata": {
        "colab": {
          "base_uri": "https://localhost:8080/"
        },
        "id": "KkM9rH1tRxKC",
        "outputId": "8a079a67-8156-4618-f08e-4d2d8cd56c94"
      },
      "execution_count": 12,
      "outputs": [
        {
          "output_type": "execute_result",
          "data": {
            "text/plain": [
              "1"
            ]
          },
          "metadata": {},
          "execution_count": 12
        }
      ]
    },
    {
      "cell_type": "code",
      "source": [
        "A.index(\"Dipanjan\")"
      ],
      "metadata": {
        "colab": {
          "base_uri": "https://localhost:8080/"
        },
        "id": "6HjDVxukT8VT",
        "outputId": "52b01dc3-ab5c-49ed-dca3-2f560aa78739"
      },
      "execution_count": 13,
      "outputs": [
        {
          "output_type": "execute_result",
          "data": {
            "text/plain": [
              "4"
            ]
          },
          "metadata": {},
          "execution_count": 13
        }
      ]
    },
    {
      "cell_type": "markdown",
      "source": [
        "###Print the index of all Complex number"
      ],
      "metadata": {
        "id": "Z0OeALk3UhAz"
      }
    },
    {
      "cell_type": "code",
      "source": [
        "A = [12, 3, 6, 56+2j, \"Dipanjan\", 2+3j]\n",
        "\n",
        "for ele in A:\n",
        "  if type(ele) == complex:\n",
        "    print(f\"ele: {ele}, type: {type(ele)}, index: {A.index(ele)}\")"
      ],
      "metadata": {
        "colab": {
          "base_uri": "https://localhost:8080/"
        },
        "id": "1P5oQKzoUM7a",
        "outputId": "a313b6ac-a803-4809-8e63-7af62ea7c124"
      },
      "execution_count": 20,
      "outputs": [
        {
          "output_type": "stream",
          "name": "stdout",
          "text": [
            "ele: (56+2j), type: <class 'complex'>, index: 3\n",
            "ele: (2+3j), type: <class 'complex'>, index: 5\n"
          ]
        }
      ]
    },
    {
      "cell_type": "markdown",
      "source": [
        "###Print the index of all integer number"
      ],
      "metadata": {
        "id": "yGmNfZIyWYML"
      }
    },
    {
      "cell_type": "code",
      "source": [
        "A = [12, 3, 6, 56+2j, \"Dipanjan\", 2+3j]\n",
        "\n",
        "for ele in A:\n",
        "  if type(ele) == int:\n",
        "    print(f\"ele: {ele}, type: {type(ele)}, index: {A.index(ele)}\")"
      ],
      "metadata": {
        "colab": {
          "base_uri": "https://localhost:8080/"
        },
        "id": "k6hGvk4gU8h6",
        "outputId": "45d346d5-21f3-4844-8bbb-8600266f5135"
      },
      "execution_count": 21,
      "outputs": [
        {
          "output_type": "stream",
          "name": "stdout",
          "text": [
            "ele: 12, type: <class 'int'>, index: 0\n",
            "ele: 3, type: <class 'int'>, index: 1\n",
            "ele: 6, type: <class 'int'>, index: 2\n"
          ]
        }
      ]
    },
    {
      "cell_type": "markdown",
      "source": [
        "###Print the index of all String value"
      ],
      "metadata": {
        "id": "Lb_2yfd_Wro6"
      }
    },
    {
      "cell_type": "code",
      "source": [
        "A = [12, 3, 6, 56+2j, \"Dipanjan\", 2+3j]\n",
        "\n",
        "for ele in A:\n",
        "  if type(ele) == str:\n",
        "    print(f\"ele: {ele}, type: {type(ele)}, index: {A.index(ele)}\")"
      ],
      "metadata": {
        "colab": {
          "base_uri": "https://localhost:8080/"
        },
        "id": "LZDDBIZKWUji",
        "outputId": "661da91d-6ea8-4910-8790-fb84db4552f9"
      },
      "execution_count": 22,
      "outputs": [
        {
          "output_type": "stream",
          "name": "stdout",
          "text": [
            "ele: Dipanjan, type: <class 'str'>, index: 4\n"
          ]
        }
      ]
    },
    {
      "cell_type": "markdown",
      "source": [
        "###Insert Method:- Insert in any index position\n",
        "###It will not Replace the Previous index element\n",
        "###(index number, insert any element in this index number)"
      ],
      "metadata": {
        "id": "KnJAXpvCXmEa"
      }
    },
    {
      "cell_type": "code",
      "source": [
        "A = [1,2,3,4,5,6]\n",
        "\n",
        "A.insert(2, \"Dipanjan\")  # (index number, insert any element in this index number)\n",
        "\n",
        "A"
      ],
      "metadata": {
        "colab": {
          "base_uri": "https://localhost:8080/"
        },
        "id": "5qaHMHW4Wo3q",
        "outputId": "f6da0a95-d3ac-4818-be75-82418af837f6"
      },
      "execution_count": 24,
      "outputs": [
        {
          "output_type": "execute_result",
          "data": {
            "text/plain": [
              "[1, 2, 'Dipanjan', 3, 4, 5, 6]"
            ]
          },
          "metadata": {},
          "execution_count": 24
        }
      ]
    },
    {
      "cell_type": "code",
      "source": [
        "A = [1,2,3,4,5,6]\n",
        "\n",
        "A.insert(4, \"Robin\")  # (index number, insert any element in this index number)\n",
        "\n",
        "A"
      ],
      "metadata": {
        "colab": {
          "base_uri": "https://localhost:8080/"
        },
        "id": "qkaqWGhDYHsb",
        "outputId": "a1bec3c2-1cf5-44c7-db52-5b225626c05f"
      },
      "execution_count": 25,
      "outputs": [
        {
          "output_type": "execute_result",
          "data": {
            "text/plain": [
              "[1, 2, 3, 4, 'Robin', 5, 6]"
            ]
          },
          "metadata": {},
          "execution_count": 25
        }
      ]
    },
    {
      "cell_type": "markdown",
      "source": [
        "###Remove Method:- It remove  specific element from List"
      ],
      "metadata": {
        "id": "Q00jSvieaDVj"
      }
    },
    {
      "cell_type": "code",
      "source": [
        "A = [1,2,3,456,8,9]\n",
        "\n",
        "A.remove(456)\n",
        "\n",
        "A"
      ],
      "metadata": {
        "colab": {
          "base_uri": "https://localhost:8080/"
        },
        "id": "qpjpDpKtYguc",
        "outputId": "ea353c3b-030d-4aec-ecc6-4dcb774312f7"
      },
      "execution_count": 27,
      "outputs": [
        {
          "output_type": "execute_result",
          "data": {
            "text/plain": [
              "[1, 2, 3, 8, 9]"
            ]
          },
          "metadata": {},
          "execution_count": 27
        }
      ]
    },
    {
      "cell_type": "markdown",
      "source": [
        "###pop - remove and return the value\n",
        "###pop - remove from Last"
      ],
      "metadata": {
        "id": "K3-GIFCCbGca"
      }
    },
    {
      "cell_type": "code",
      "source": [
        "A = [1,2,3,456,8,9]\n",
        "\n",
        "A.pop()\n",
        "\n",
        "A"
      ],
      "metadata": {
        "colab": {
          "base_uri": "https://localhost:8080/"
        },
        "id": "ldJHN2v4aPjz",
        "outputId": "5c643f81-adfa-4012-881c-346571633b1b"
      },
      "execution_count": 28,
      "outputs": [
        {
          "output_type": "execute_result",
          "data": {
            "text/plain": [
              "[1, 2, 3, 456, 8]"
            ]
          },
          "metadata": {},
          "execution_count": 28
        }
      ]
    },
    {
      "cell_type": "markdown",
      "source": [
        "##Tuples:- Data Structure\n",
        "###Tupple has protective behaviour, that you don't want to change\n",
        "###Tuple => ( )  ==> Tuple is immutable (Not able to change value)\n",
        "###List => [ ]  ==> List is Mutable  [You can change value]"
      ],
      "metadata": {
        "id": "KmWcKDSzcKIS"
      }
    },
    {
      "cell_type": "code",
      "source": [
        "A = (1,2,3)\n",
        "\n",
        "type(A)"
      ],
      "metadata": {
        "colab": {
          "base_uri": "https://localhost:8080/"
        },
        "id": "tvST8auwa_IK",
        "outputId": "e7a49096-3e3a-4440-ce08-848a27d98df7"
      },
      "execution_count": 29,
      "outputs": [
        {
          "output_type": "execute_result",
          "data": {
            "text/plain": [
              "tuple"
            ]
          },
          "metadata": {},
          "execution_count": 29
        }
      ]
    },
    {
      "cell_type": "markdown",
      "source": [
        "###Access Tupple"
      ],
      "metadata": {
        "id": "KHyaZ9hJdhnC"
      }
    },
    {
      "cell_type": "code",
      "source": [
        "A = (1,2,3)\n",
        "\n",
        "A[0]"
      ],
      "metadata": {
        "colab": {
          "base_uri": "https://localhost:8080/"
        },
        "id": "CnbwdImmdSbE",
        "outputId": "c9428ee8-7454-4eea-d136-d4449ea36cbc"
      },
      "execution_count": 30,
      "outputs": [
        {
          "output_type": "execute_result",
          "data": {
            "text/plain": [
              "1"
            ]
          },
          "metadata": {},
          "execution_count": 30
        }
      ]
    },
    {
      "cell_type": "code",
      "source": [
        "A[-1]"
      ],
      "metadata": {
        "colab": {
          "base_uri": "https://localhost:8080/"
        },
        "id": "oSKGupEhddna",
        "outputId": "616f1d30-e911-4475-f974-0e64d6ae3833"
      },
      "execution_count": 31,
      "outputs": [
        {
          "output_type": "execute_result",
          "data": {
            "text/plain": [
              "3"
            ]
          },
          "metadata": {},
          "execution_count": 31
        }
      ]
    },
    {
      "cell_type": "markdown",
      "source": [
        "###Tupple in immutable:-Example"
      ],
      "metadata": {
        "id": "5xS7RJCbdoWy"
      }
    },
    {
      "cell_type": "code",
      "source": [
        "A = (1,2,3)\n",
        "\n",
        "A[0] = 23  #You can not change index of Tuple"
      ],
      "metadata": {
        "colab": {
          "base_uri": "https://localhost:8080/",
          "height": 201
        },
        "id": "RupfA-CxdgQj",
        "outputId": "1fc16a99-43e8-4fd4-8777-4db20690a64a"
      },
      "execution_count": 32,
      "outputs": [
        {
          "output_type": "error",
          "ename": "TypeError",
          "evalue": "ignored",
          "traceback": [
            "\u001b[0;31m---------------------------------------------------------------------------\u001b[0m",
            "\u001b[0;31mTypeError\u001b[0m                                 Traceback (most recent call last)",
            "\u001b[0;32m<ipython-input-32-ccc3715d7836>\u001b[0m in \u001b[0;36m<module>\u001b[0;34m\u001b[0m\n\u001b[1;32m      1\u001b[0m \u001b[0mA\u001b[0m \u001b[0;34m=\u001b[0m \u001b[0;34m(\u001b[0m\u001b[0;36m1\u001b[0m\u001b[0;34m,\u001b[0m\u001b[0;36m2\u001b[0m\u001b[0;34m,\u001b[0m\u001b[0;36m3\u001b[0m\u001b[0;34m)\u001b[0m\u001b[0;34m\u001b[0m\u001b[0;34m\u001b[0m\u001b[0m\n\u001b[1;32m      2\u001b[0m \u001b[0;34m\u001b[0m\u001b[0m\n\u001b[0;32m----> 3\u001b[0;31m \u001b[0mA\u001b[0m\u001b[0;34m[\u001b[0m\u001b[0;36m0\u001b[0m\u001b[0;34m]\u001b[0m \u001b[0;34m=\u001b[0m \u001b[0;36m23\u001b[0m\u001b[0;34m\u001b[0m\u001b[0;34m\u001b[0m\u001b[0m\n\u001b[0m",
            "\u001b[0;31mTypeError\u001b[0m: 'tuple' object does not support item assignment"
          ]
        }
      ]
    },
    {
      "cell_type": "code",
      "source": [
        "A = (22, 15,14,87,95)\n",
        "\n",
        "A.sort()   #sort is not allowed in Tupple"
      ],
      "metadata": {
        "colab": {
          "base_uri": "https://localhost:8080/",
          "height": 201
        },
        "id": "_F8U-ZmNdyeB",
        "outputId": "dd0a6c6e-679d-4c29-ef6a-5a8266f4b6f9"
      },
      "execution_count": 33,
      "outputs": [
        {
          "output_type": "error",
          "ename": "AttributeError",
          "evalue": "ignored",
          "traceback": [
            "\u001b[0;31m---------------------------------------------------------------------------\u001b[0m",
            "\u001b[0;31mAttributeError\u001b[0m                            Traceback (most recent call last)",
            "\u001b[0;32m<ipython-input-33-92990c95808c>\u001b[0m in \u001b[0;36m<module>\u001b[0;34m\u001b[0m\n\u001b[1;32m      1\u001b[0m \u001b[0mA\u001b[0m \u001b[0;34m=\u001b[0m \u001b[0;34m(\u001b[0m\u001b[0;36m22\u001b[0m\u001b[0;34m,\u001b[0m \u001b[0;36m15\u001b[0m\u001b[0;34m,\u001b[0m\u001b[0;36m14\u001b[0m\u001b[0;34m,\u001b[0m\u001b[0;36m87\u001b[0m\u001b[0;34m,\u001b[0m\u001b[0;36m95\u001b[0m\u001b[0;34m)\u001b[0m\u001b[0;34m\u001b[0m\u001b[0;34m\u001b[0m\u001b[0m\n\u001b[1;32m      2\u001b[0m \u001b[0;34m\u001b[0m\u001b[0m\n\u001b[0;32m----> 3\u001b[0;31m \u001b[0mA\u001b[0m\u001b[0;34m.\u001b[0m\u001b[0msort\u001b[0m\u001b[0;34m(\u001b[0m\u001b[0;34m)\u001b[0m\u001b[0;34m\u001b[0m\u001b[0;34m\u001b[0m\u001b[0m\n\u001b[0m",
            "\u001b[0;31mAttributeError\u001b[0m: 'tuple' object has no attribute 'sort'"
          ]
        }
      ]
    },
    {
      "cell_type": "code",
      "source": [
        "A = (22, 15,14,87,95)\n",
        "\n",
        "sorted(A)  #Converted into a List and sorted"
      ],
      "metadata": {
        "colab": {
          "base_uri": "https://localhost:8080/"
        },
        "id": "K4LXnSwTeUM5",
        "outputId": "5974cb4f-e8ab-47c7-b280-bc5cbd795b18"
      },
      "execution_count": 34,
      "outputs": [
        {
          "output_type": "execute_result",
          "data": {
            "text/plain": [
              "[14, 15, 22, 87, 95]"
            ]
          },
          "metadata": {},
          "execution_count": 34
        }
      ]
    },
    {
      "cell_type": "code",
      "source": [
        "A = (22, 15,14,87,95)\n",
        "\n",
        "len(A) "
      ],
      "metadata": {
        "colab": {
          "base_uri": "https://localhost:8080/"
        },
        "id": "P1M4Hlc2eoOC",
        "outputId": "6c147e26-b2fc-408b-ca69-873bc1c2e2da"
      },
      "execution_count": 35,
      "outputs": [
        {
          "output_type": "execute_result",
          "data": {
            "text/plain": [
              "5"
            ]
          },
          "metadata": {},
          "execution_count": 35
        }
      ]
    },
    {
      "cell_type": "code",
      "source": [
        "A = (22, 15,14,87,95)\n",
        "\n",
        "A * 2"
      ],
      "metadata": {
        "colab": {
          "base_uri": "https://localhost:8080/"
        },
        "id": "DxeSfxm6fCrz",
        "outputId": "498dd018-50fb-4b39-e9f9-c1a91dce4285"
      },
      "execution_count": 36,
      "outputs": [
        {
          "output_type": "execute_result",
          "data": {
            "text/plain": [
              "(22, 15, 14, 87, 95, 22, 15, 14, 87, 95)"
            ]
          },
          "metadata": {},
          "execution_count": 36
        }
      ]
    },
    {
      "cell_type": "code",
      "source": [
        "A = (22, 15,14,87,95)\n",
        "\n",
        "max(A)"
      ],
      "metadata": {
        "colab": {
          "base_uri": "https://localhost:8080/"
        },
        "id": "R_LEXgcKfKQa",
        "outputId": "23b6ed95-20b1-4148-d2a4-799eb29004dd"
      },
      "execution_count": 37,
      "outputs": [
        {
          "output_type": "execute_result",
          "data": {
            "text/plain": [
              "95"
            ]
          },
          "metadata": {},
          "execution_count": 37
        }
      ]
    },
    {
      "cell_type": "code",
      "source": [
        "A = (22, 15,14,87,95)\n",
        "\n",
        "min(A)"
      ],
      "metadata": {
        "colab": {
          "base_uri": "https://localhost:8080/"
        },
        "id": "mgr3jyYUfb9p",
        "outputId": "ab0be4ca-3245-45e0-d9fc-1584e969e28e"
      },
      "execution_count": 38,
      "outputs": [
        {
          "output_type": "execute_result",
          "data": {
            "text/plain": [
              "14"
            ]
          },
          "metadata": {},
          "execution_count": 38
        }
      ]
    },
    {
      "cell_type": "code",
      "source": [
        "A = (22, 15,14,87,95)\n",
        "\n",
        "A.index(14)"
      ],
      "metadata": {
        "colab": {
          "base_uri": "https://localhost:8080/"
        },
        "id": "NCt3CWQGfe0R",
        "outputId": "953151fb-f189-47dc-8361-6a0d3d8bf493"
      },
      "execution_count": 39,
      "outputs": [
        {
          "output_type": "execute_result",
          "data": {
            "text/plain": [
              "2"
            ]
          },
          "metadata": {},
          "execution_count": 39
        }
      ]
    },
    {
      "cell_type": "code",
      "source": [
        "A = (22, 15,14,87,95)\n",
        "\n",
        "A.count(14)"
      ],
      "metadata": {
        "colab": {
          "base_uri": "https://localhost:8080/"
        },
        "id": "Mexx3fIGfkCx",
        "outputId": "c3a9af6b-4294-40e1-cd11-1a070ace9b27"
      },
      "execution_count": 40,
      "outputs": [
        {
          "output_type": "execute_result",
          "data": {
            "text/plain": [
              "1"
            ]
          },
          "metadata": {},
          "execution_count": 40
        }
      ]
    },
    {
      "cell_type": "code",
      "source": [
        "A = (22, 15,14,87,95)\n",
        "\n",
        "sum(A)"
      ],
      "metadata": {
        "colab": {
          "base_uri": "https://localhost:8080/"
        },
        "id": "DRNUiuD4fsrZ",
        "outputId": "a657dafc-6536-493f-9c87-62962b096dcb"
      },
      "execution_count": 41,
      "outputs": [
        {
          "output_type": "execute_result",
          "data": {
            "text/plain": [
              "233"
            ]
          },
          "metadata": {},
          "execution_count": 41
        }
      ]
    },
    {
      "cell_type": "code",
      "source": [
        "A = (22, 15,14,87,95)\n",
        "\n",
        "A.reverse()  #Not allowed in Tuple"
      ],
      "metadata": {
        "colab": {
          "base_uri": "https://localhost:8080/",
          "height": 201
        },
        "id": "3ibmO4jCf5Py",
        "outputId": "6113488b-65d2-4eed-9b96-e8d911db20b2"
      },
      "execution_count": 42,
      "outputs": [
        {
          "output_type": "error",
          "ename": "AttributeError",
          "evalue": "ignored",
          "traceback": [
            "\u001b[0;31m---------------------------------------------------------------------------\u001b[0m",
            "\u001b[0;31mAttributeError\u001b[0m                            Traceback (most recent call last)",
            "\u001b[0;32m<ipython-input-42-de203a118a3d>\u001b[0m in \u001b[0;36m<module>\u001b[0;34m\u001b[0m\n\u001b[1;32m      1\u001b[0m \u001b[0mA\u001b[0m \u001b[0;34m=\u001b[0m \u001b[0;34m(\u001b[0m\u001b[0;36m22\u001b[0m\u001b[0;34m,\u001b[0m \u001b[0;36m15\u001b[0m\u001b[0;34m,\u001b[0m\u001b[0;36m14\u001b[0m\u001b[0;34m,\u001b[0m\u001b[0;36m87\u001b[0m\u001b[0;34m,\u001b[0m\u001b[0;36m95\u001b[0m\u001b[0;34m)\u001b[0m\u001b[0;34m\u001b[0m\u001b[0;34m\u001b[0m\u001b[0m\n\u001b[1;32m      2\u001b[0m \u001b[0;34m\u001b[0m\u001b[0m\n\u001b[0;32m----> 3\u001b[0;31m \u001b[0mA\u001b[0m\u001b[0;34m.\u001b[0m\u001b[0mreverse\u001b[0m\u001b[0;34m(\u001b[0m\u001b[0;34m)\u001b[0m\u001b[0;34m\u001b[0m\u001b[0;34m\u001b[0m\u001b[0m\n\u001b[0m",
            "\u001b[0;31mAttributeError\u001b[0m: 'tuple' object has no attribute 'reverse'"
          ]
        }
      ]
    },
    {
      "cell_type": "code",
      "source": [
        "A = (22, 15,14,87,95)\n",
        "\n",
        "A[1: ]  # Slicing is allowed in Tupple"
      ],
      "metadata": {
        "colab": {
          "base_uri": "https://localhost:8080/"
        },
        "id": "bD_RGcqugAPy",
        "outputId": "e5ebbd78-0865-4635-aedc-2ca6e0c15685"
      },
      "execution_count": 43,
      "outputs": [
        {
          "output_type": "execute_result",
          "data": {
            "text/plain": [
              "(15, 14, 87, 95)"
            ]
          },
          "metadata": {},
          "execution_count": 43
        }
      ]
    },
    {
      "cell_type": "code",
      "source": [
        "A[::-1]  #Reverse is allowed in Tuple"
      ],
      "metadata": {
        "colab": {
          "base_uri": "https://localhost:8080/"
        },
        "id": "p8hnsTARg6PK",
        "outputId": "2ff82f46-adcd-4f4c-91a9-54303e7d1dfe"
      },
      "execution_count": 44,
      "outputs": [
        {
          "output_type": "execute_result",
          "data": {
            "text/plain": [
              "(95, 87, 14, 15, 22)"
            ]
          },
          "metadata": {},
          "execution_count": 44
        }
      ]
    },
    {
      "cell_type": "markdown",
      "source": [
        "##Sets:- Sets contain unique elements. Not Duplicate.\n",
        "###To Remove Duplicate, Sets is very Useful\n",
        "\n",
        "###NOTE:- Sets are Mutable in Nature (You can Change)"
      ],
      "metadata": {
        "id": "gNulykMKhpk6"
      }
    },
    {
      "cell_type": "code",
      "source": [
        "x = {1,2,3,33,6,7}\n",
        "\n",
        "type(x)"
      ],
      "metadata": {
        "colab": {
          "base_uri": "https://localhost:8080/"
        },
        "id": "gMxxc6C6hFE6",
        "outputId": "d9c3b982-683a-4029-eb86-799ef53939ac"
      },
      "execution_count": 45,
      "outputs": [
        {
          "output_type": "execute_result",
          "data": {
            "text/plain": [
              "set"
            ]
          },
          "metadata": {},
          "execution_count": 45
        }
      ]
    },
    {
      "cell_type": "code",
      "source": [
        "x = {1,2,3,33,6,7,7,7,7,7}\n",
        "\n",
        "x   #Set only contain Unique Value. it will remove Duplicates."
      ],
      "metadata": {
        "colab": {
          "base_uri": "https://localhost:8080/"
        },
        "id": "IZEBxEgJjKFK",
        "outputId": "bfde9b72-6011-4db6-9569-2bed049e00d0"
      },
      "execution_count": 47,
      "outputs": [
        {
          "output_type": "execute_result",
          "data": {
            "text/plain": [
              "{1, 2, 3, 6, 7, 33}"
            ]
          },
          "metadata": {},
          "execution_count": 47
        }
      ]
    },
    {
      "cell_type": "markdown",
      "source": [
        "###Always Define Data Structure like this:-  ( )  to avoid mistake"
      ],
      "metadata": {
        "id": "LqBdMr8Rj8dS"
      }
    },
    {
      "cell_type": "code",
      "source": [
        "x = tuple()\n",
        "x"
      ],
      "metadata": {
        "colab": {
          "base_uri": "https://localhost:8080/"
        },
        "id": "bh4WF3oCjW9h",
        "outputId": "e875e0d4-28d0-4df8-c185-c10b4924aa8b"
      },
      "execution_count": 49,
      "outputs": [
        {
          "output_type": "execute_result",
          "data": {
            "text/plain": [
              "()"
            ]
          },
          "metadata": {},
          "execution_count": 49
        }
      ]
    },
    {
      "cell_type": "code",
      "source": [
        "x = set()\n",
        "x"
      ],
      "metadata": {
        "colab": {
          "base_uri": "https://localhost:8080/"
        },
        "id": "azDQqMhjkFUZ",
        "outputId": "24a2197f-bb21-442f-9c58-aafa525918d1"
      },
      "execution_count": 50,
      "outputs": [
        {
          "output_type": "execute_result",
          "data": {
            "text/plain": [
              "set()"
            ]
          },
          "metadata": {},
          "execution_count": 50
        }
      ]
    },
    {
      "cell_type": "code",
      "source": [
        "x = list()\n",
        "x"
      ],
      "metadata": {
        "colab": {
          "base_uri": "https://localhost:8080/"
        },
        "id": "y82VErHBkNPK",
        "outputId": "8cf52d25-eef9-41a4-cbe8-279f50b6ecec"
      },
      "execution_count": 52,
      "outputs": [
        {
          "output_type": "execute_result",
          "data": {
            "text/plain": [
              "[]"
            ]
          },
          "metadata": {},
          "execution_count": 52
        }
      ]
    },
    {
      "cell_type": "markdown",
      "source": [
        "##Remove Duplicates:-"
      ],
      "metadata": {
        "id": "PxNUnf6jk03R"
      }
    },
    {
      "cell_type": "code",
      "source": [
        "A = [1,2,3,4,5,6,6,8,7,7,7,9]\n",
        "\n",
        "A = set(A)  #It will give you Unique value\n",
        "\n",
        "A"
      ],
      "metadata": {
        "colab": {
          "base_uri": "https://localhost:8080/"
        },
        "id": "8ZNJKTBfkQ4h",
        "outputId": "1d7f73da-b162-4f3b-9e03-e9beb8f04486"
      },
      "execution_count": 54,
      "outputs": [
        {
          "output_type": "execute_result",
          "data": {
            "text/plain": [
              "{1, 2, 3, 4, 5, 6, 7, 8, 9}"
            ]
          },
          "metadata": {},
          "execution_count": 54
        }
      ]
    },
    {
      "cell_type": "markdown",
      "source": [
        "###Return List with Unique Elements"
      ],
      "metadata": {
        "id": "hW0vd7S4lYpx"
      }
    },
    {
      "cell_type": "code",
      "source": [
        "A = [1,2,3,4,5,6,6,8,7,7,7,9]\n",
        "\n",
        "A = list(set(A))  \n",
        "\n",
        "A"
      ],
      "metadata": {
        "colab": {
          "base_uri": "https://localhost:8080/"
        },
        "id": "2gJFLxWUlD1q",
        "outputId": "819680a9-83ce-4ebc-ad94-ecff64a10b0d"
      },
      "execution_count": 55,
      "outputs": [
        {
          "output_type": "execute_result",
          "data": {
            "text/plain": [
              "[1, 2, 3, 4, 5, 6, 7, 8, 9]"
            ]
          },
          "metadata": {},
          "execution_count": 55
        }
      ]
    },
    {
      "cell_type": "markdown",
      "source": [
        "###Add in Sets:-"
      ],
      "metadata": {
        "id": "5uis_a9HmBw5"
      }
    },
    {
      "cell_type": "code",
      "source": [
        "A = {1,2,3,\"Dipanjan\"}\n",
        "\n",
        "A.add(99)  #It added with integer. Not added in the End\n",
        "\n",
        "A"
      ],
      "metadata": {
        "colab": {
          "base_uri": "https://localhost:8080/"
        },
        "id": "XSGkOiwqlmHy",
        "outputId": "afdb2dae-4cd4-48b6-fc46-6319cf7a4376"
      },
      "execution_count": 56,
      "outputs": [
        {
          "output_type": "execute_result",
          "data": {
            "text/plain": [
              "{1, 2, 3, 99, 'Dipanjan'}"
            ]
          },
          "metadata": {},
          "execution_count": 56
        }
      ]
    },
    {
      "cell_type": "code",
      "source": [],
      "metadata": {
        "id": "1d2Se-wZmOUB"
      },
      "execution_count": null,
      "outputs": []
    }
  ]
}